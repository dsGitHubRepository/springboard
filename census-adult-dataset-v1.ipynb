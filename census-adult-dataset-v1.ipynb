{
 "cells": [
  {
   "cell_type": "code",
   "execution_count": 1065,
   "id": "6ebf67f0",
   "metadata": {},
   "outputs": [],
   "source": [
    "import pandas as pd\n",
    "import numpy as np\n",
    "\n",
    "import matplotlib.pyplot as plt\n",
    "import seaborn as sns"
   ]
  },
  {
   "cell_type": "code",
   "execution_count": 1066,
   "id": "8b4b7fbe",
   "metadata": {},
   "outputs": [
    {
     "data": {
      "text/html": [
       "<div>\n",
       "<style scoped>\n",
       "    .dataframe tbody tr th:only-of-type {\n",
       "        vertical-align: middle;\n",
       "    }\n",
       "\n",
       "    .dataframe tbody tr th {\n",
       "        vertical-align: top;\n",
       "    }\n",
       "\n",
       "    .dataframe thead th {\n",
       "        text-align: right;\n",
       "    }\n",
       "</style>\n",
       "<table border=\"1\" class=\"dataframe\">\n",
       "  <thead>\n",
       "    <tr style=\"text-align: right;\">\n",
       "      <th></th>\n",
       "      <th>age</th>\n",
       "      <th>workclass</th>\n",
       "      <th>fnlwgt</th>\n",
       "      <th>education</th>\n",
       "      <th>education_num</th>\n",
       "      <th>marital_status</th>\n",
       "      <th>occupation</th>\n",
       "      <th>relationship</th>\n",
       "      <th>race</th>\n",
       "      <th>sex</th>\n",
       "      <th>capital_gain</th>\n",
       "      <th>capital_loss</th>\n",
       "      <th>hours_per_week</th>\n",
       "      <th>native_country</th>\n",
       "      <th>income</th>\n",
       "    </tr>\n",
       "  </thead>\n",
       "  <tbody>\n",
       "    <tr>\n",
       "      <th>0</th>\n",
       "      <td>50.0</td>\n",
       "      <td>Self-emp-not-inc</td>\n",
       "      <td>83311.0</td>\n",
       "      <td>Bachelors</td>\n",
       "      <td>13.0</td>\n",
       "      <td>Married-civ-spouse</td>\n",
       "      <td>Exec-managerial</td>\n",
       "      <td>Husband</td>\n",
       "      <td>White</td>\n",
       "      <td>Male</td>\n",
       "      <td>0.0</td>\n",
       "      <td>0.0</td>\n",
       "      <td>13.0</td>\n",
       "      <td>United-States</td>\n",
       "      <td>&lt;=50K</td>\n",
       "    </tr>\n",
       "    <tr>\n",
       "      <th>1</th>\n",
       "      <td>38.0</td>\n",
       "      <td>Private</td>\n",
       "      <td>215646.0</td>\n",
       "      <td>HS-grad</td>\n",
       "      <td>9.0</td>\n",
       "      <td>Divorced</td>\n",
       "      <td>Handlers-cleaners</td>\n",
       "      <td>Not-in-family</td>\n",
       "      <td>White</td>\n",
       "      <td>Male</td>\n",
       "      <td>0.0</td>\n",
       "      <td>0.0</td>\n",
       "      <td>40.0</td>\n",
       "      <td>United-States</td>\n",
       "      <td>&lt;=50K</td>\n",
       "    </tr>\n",
       "    <tr>\n",
       "      <th>2</th>\n",
       "      <td>53.0</td>\n",
       "      <td>Private</td>\n",
       "      <td>234721.0</td>\n",
       "      <td>11th</td>\n",
       "      <td>7.0</td>\n",
       "      <td>Married-civ-spouse</td>\n",
       "      <td>Handlers-cleaners</td>\n",
       "      <td>Husband</td>\n",
       "      <td>Black</td>\n",
       "      <td>Male</td>\n",
       "      <td>0.0</td>\n",
       "      <td>0.0</td>\n",
       "      <td>40.0</td>\n",
       "      <td>United-States</td>\n",
       "      <td>&lt;=50K</td>\n",
       "    </tr>\n",
       "    <tr>\n",
       "      <th>3</th>\n",
       "      <td>28.0</td>\n",
       "      <td>Private</td>\n",
       "      <td>338409.0</td>\n",
       "      <td>Bachelors</td>\n",
       "      <td>13.0</td>\n",
       "      <td>Married-civ-spouse</td>\n",
       "      <td>Prof-specialty</td>\n",
       "      <td>Wife</td>\n",
       "      <td>Black</td>\n",
       "      <td>Female</td>\n",
       "      <td>0.0</td>\n",
       "      <td>0.0</td>\n",
       "      <td>40.0</td>\n",
       "      <td>Cuba</td>\n",
       "      <td>&lt;=50K</td>\n",
       "    </tr>\n",
       "    <tr>\n",
       "      <th>4</th>\n",
       "      <td>37.0</td>\n",
       "      <td>Private</td>\n",
       "      <td>284582.0</td>\n",
       "      <td>Masters</td>\n",
       "      <td>14.0</td>\n",
       "      <td>Married-civ-spouse</td>\n",
       "      <td>Exec-managerial</td>\n",
       "      <td>Wife</td>\n",
       "      <td>White</td>\n",
       "      <td>Female</td>\n",
       "      <td>0.0</td>\n",
       "      <td>0.0</td>\n",
       "      <td>40.0</td>\n",
       "      <td>United-States</td>\n",
       "      <td>&lt;=50K</td>\n",
       "    </tr>\n",
       "  </tbody>\n",
       "</table>\n",
       "</div>"
      ],
      "text/plain": [
       "    age          workclass    fnlwgt   education  education_num  \\\n",
       "0  50.0   Self-emp-not-inc   83311.0   Bachelors           13.0   \n",
       "1  38.0            Private  215646.0     HS-grad            9.0   \n",
       "2  53.0            Private  234721.0        11th            7.0   \n",
       "3  28.0            Private  338409.0   Bachelors           13.0   \n",
       "4  37.0            Private  284582.0     Masters           14.0   \n",
       "\n",
       "        marital_status          occupation    relationship    race      sex  \\\n",
       "0   Married-civ-spouse     Exec-managerial         Husband   White     Male   \n",
       "1             Divorced   Handlers-cleaners   Not-in-family   White     Male   \n",
       "2   Married-civ-spouse   Handlers-cleaners         Husband   Black     Male   \n",
       "3   Married-civ-spouse      Prof-specialty            Wife   Black   Female   \n",
       "4   Married-civ-spouse     Exec-managerial            Wife   White   Female   \n",
       "\n",
       "   capital_gain  capital_loss  hours_per_week  native_country  income  \n",
       "0           0.0           0.0            13.0   United-States   <=50K  \n",
       "1           0.0           0.0            40.0   United-States   <=50K  \n",
       "2           0.0           0.0            40.0   United-States   <=50K  \n",
       "3           0.0           0.0            40.0            Cuba   <=50K  \n",
       "4           0.0           0.0            40.0   United-States   <=50K  "
      ]
     },
     "execution_count": 1066,
     "metadata": {},
     "output_type": "execute_result"
    }
   ],
   "source": [
    "df = pd.read_csv(\"./DATA/spark-adult.csv\")\n",
    "df.head()"
   ]
  },
  {
   "cell_type": "code",
   "execution_count": 1067,
   "id": "e4e01105",
   "metadata": {},
   "outputs": [
    {
     "data": {
      "text/plain": [
       "(32560, 15)"
      ]
     },
     "execution_count": 1067,
     "metadata": {},
     "output_type": "execute_result"
    }
   ],
   "source": [
    "df.shape"
   ]
  },
  {
   "cell_type": "code",
   "execution_count": 1068,
   "id": "c439492a",
   "metadata": {},
   "outputs": [
    {
     "data": {
      "text/plain": [
       "array(['age', 'workclass', 'fnlwgt', 'education', 'education_num',\n",
       "       'marital_status', 'occupation', 'relationship', 'race', 'sex',\n",
       "       'capital_gain', 'capital_loss', 'hours_per_week', 'native_country',\n",
       "       'income'], dtype='<U14')"
      ]
     },
     "execution_count": 1068,
     "metadata": {},
     "output_type": "execute_result"
    }
   ],
   "source": [
    "cols = np.transpose(df.columns.tolist())\n",
    "cols"
   ]
  },
  {
   "cell_type": "code",
   "execution_count": 1069,
   "id": "69701f2c",
   "metadata": {},
   "outputs": [
    {
     "data": {
      "text/plain": [
       " HS-grad         10501\n",
       " Some-college     7291\n",
       " Bachelors        5354\n",
       " Masters          1723\n",
       " Assoc-voc        1382\n",
       " 11th             1175\n",
       " Assoc-acdm       1067\n",
       " 10th              933\n",
       " 7th-8th           646\n",
       " Prof-school       576\n",
       " 9th               514\n",
       " 12th              433\n",
       " Doctorate         413\n",
       " 5th-6th           333\n",
       " 1st-4th           168\n",
       " Preschool          51\n",
       "Name: education, dtype: int64"
      ]
     },
     "execution_count": 1069,
     "metadata": {},
     "output_type": "execute_result"
    }
   ],
   "source": [
    "df['education'].value_counts()"
   ]
  },
  {
   "cell_type": "raw",
   "id": "c450c424",
   "metadata": {},
   "source": [
    "df['educationIndex'].value_counts()"
   ]
  },
  {
   "cell_type": "code",
   "execution_count": 1070,
   "id": "03532a7f",
   "metadata": {},
   "outputs": [
    {
     "data": {
      "text/plain": [
       "[' HS-grad',\n",
       " ' Some-college',\n",
       " ' Bachelors',\n",
       " ' Masters',\n",
       " ' Assoc-voc',\n",
       " ' 11th',\n",
       " ' Assoc-acdm',\n",
       " ' 10th',\n",
       " ' 7th-8th',\n",
       " ' Prof-school',\n",
       " ' 9th',\n",
       " ' 12th',\n",
       " ' Doctorate',\n",
       " ' 5th-6th',\n",
       " ' 1st-4th',\n",
       " ' Preschool']"
      ]
     },
     "execution_count": 1070,
     "metadata": {},
     "output_type": "execute_result"
    }
   ],
   "source": [
    "idx = df['education'].value_counts().index.tolist()\n",
    "idx"
   ]
  },
  {
   "cell_type": "code",
   "execution_count": 1071,
   "id": "cf698844",
   "metadata": {},
   "outputs": [
    {
     "data": {
      "text/plain": [
       "(10, 10)"
      ]
     },
     "execution_count": 1071,
     "metadata": {},
     "output_type": "execute_result"
    }
   ],
   "source": [
    "len(v), len(np.arange(1,len(v)+1))"
   ]
  },
  {
   "cell_type": "code",
   "execution_count": 1072,
   "id": "3c725960",
   "metadata": {},
   "outputs": [
    {
     "data": {
      "text/plain": [
       " HS-grad         10501\n",
       " Some-college     7291\n",
       " Bachelors        5354\n",
       " Masters          1723\n",
       " Assoc-voc        1382\n",
       " 11th             1175\n",
       " Assoc-acdm       1067\n",
       " 10th              933\n",
       " 7th-8th           646\n",
       " Prof-school       576\n",
       " 9th               514\n",
       " 12th              433\n",
       " Doctorate         413\n",
       " 5th-6th           333\n",
       " 1st-4th           168\n",
       " Preschool          51\n",
       "Name: education, dtype: int64"
      ]
     },
     "execution_count": 1072,
     "metadata": {},
     "output_type": "execute_result"
    }
   ],
   "source": [
    "df['education'].value_counts()"
   ]
  },
  {
   "cell_type": "code",
   "execution_count": 1073,
   "id": "e0679526",
   "metadata": {},
   "outputs": [
    {
     "data": {
      "text/plain": [
       "False    32560\n",
       "Name: age, dtype: int64"
      ]
     },
     "execution_count": 1073,
     "metadata": {},
     "output_type": "execute_result"
    }
   ],
   "source": [
    "df['age'].isnull().value_counts()"
   ]
  },
  {
   "cell_type": "code",
   "execution_count": 1074,
   "id": "91cad875",
   "metadata": {},
   "outputs": [
    {
     "data": {
      "image/png": "[encoded data removed]",
      "text/plain": [
       "<Figure size 432x288 with 1 Axes>"
      ]
     },
     "metadata": {
      "needs_background": "light"
     },
     "output_type": "display_data"
    }
   ],
   "source": [
    "plt.hist(df['age'].sort_values(ascending=True).values, bins=30)\n",
    "plt.show()"
   ]
  },
  {
   "cell_type": "code",
   "execution_count": 1075,
   "id": "bb113207",
   "metadata": {},
   "outputs": [
    {
     "data": {
      "text/plain": [
       "array(['age', 'workclass', 'fnlwgt', 'education', 'education_num',\n",
       "       'marital_status', 'occupation', 'relationship', 'race', 'sex',\n",
       "       'capital_gain', 'capital_loss', 'hours_per_week', 'native_country',\n",
       "       'income'], dtype='<U14')"
      ]
     },
     "execution_count": 1075,
     "metadata": {},
     "output_type": "execute_result"
    }
   ],
   "source": [
    "cols"
   ]
  },
  {
   "cell_type": "code",
   "execution_count": 1076,
   "id": "cce8137d",
   "metadata": {},
   "outputs": [
    {
     "data": {
      "text/plain": [
       "False    32560\n",
       "Name: workclass, dtype: int64"
      ]
     },
     "execution_count": 1076,
     "metadata": {},
     "output_type": "execute_result"
    }
   ],
   "source": [
    "df['workclass'].isnull().value_counts()"
   ]
  },
  {
   "cell_type": "code",
   "execution_count": 1077,
   "id": "9045f046",
   "metadata": {},
   "outputs": [
    {
     "data": {
      "text/plain": [
       " Private             69.705160\n",
       " Self-emp-not-inc     7.804054\n",
       " Local-gov            6.428133\n",
       " ?                    5.638821\n",
       " State-gov            3.983415\n",
       " Self-emp-inc         3.427518\n",
       " Federal-gov          2.948403\n",
       " Without-pay          0.042998\n",
       " Never-worked         0.021499\n",
       "Name: workclass, dtype: float64"
      ]
     },
     "execution_count": 1077,
     "metadata": {},
     "output_type": "execute_result"
    }
   ],
   "source": [
    "df['workclass'].value_counts().sort_values(ascending=False)*100/len(df)"
   ]
  },
  {
   "cell_type": "code",
   "execution_count": 1078,
   "id": "ad7f91e4",
   "metadata": {},
   "outputs": [
    {
     "data": {
      "text/plain": [
       "False    32560\n",
       "Name: education, dtype: int64"
      ]
     },
     "execution_count": 1078,
     "metadata": {},
     "output_type": "execute_result"
    }
   ],
   "source": [
    "df['education'].isnull().value_counts()"
   ]
  },
  {
   "cell_type": "code",
   "execution_count": 1079,
   "id": "c886059d",
   "metadata": {},
   "outputs": [
    {
     "data": {
      "text/plain": [
       " HS-grad         32.251229\n",
       " Some-college    22.392506\n",
       " Bachelors       16.443489\n",
       " Masters          5.291769\n",
       " Assoc-voc        4.244472\n",
       " 11th             3.608722\n",
       " Assoc-acdm       3.277027\n",
       " 10th             2.865479\n",
       " 7th-8th          1.984029\n",
       " Prof-school      1.769042\n",
       " 9th              1.578624\n",
       " 12th             1.329853\n",
       " Doctorate        1.268428\n",
       " 5th-6th          1.022727\n",
       " 1st-4th          0.515971\n",
       " Preschool        0.156634\n",
       "Name: education, dtype: float64"
      ]
     },
     "execution_count": 1079,
     "metadata": {},
     "output_type": "execute_result"
    }
   ],
   "source": [
    "df['education'].value_counts().sort_values(ascending=False)*100/len(df)"
   ]
  },
  {
   "cell_type": "code",
   "execution_count": 1080,
   "id": "fde3c02a",
   "metadata": {},
   "outputs": [
    {
     "data": {
      "text/plain": [
       "array(['age', 'workclass', 'fnlwgt', 'education', 'education_num',\n",
       "       'marital_status', 'occupation', 'relationship', 'race', 'sex',\n",
       "       'capital_gain', 'capital_loss', 'hours_per_week', 'native_country',\n",
       "       'income'], dtype='<U14')"
      ]
     },
     "execution_count": 1080,
     "metadata": {},
     "output_type": "execute_result"
    }
   ],
   "source": [
    "cols"
   ]
  },
  {
   "cell_type": "code",
   "execution_count": 1081,
   "id": "4810aa2d",
   "metadata": {},
   "outputs": [
    {
     "data": {
      "text/plain": [
       "False    32560\n",
       "Name: education_num, dtype: int64"
      ]
     },
     "execution_count": 1081,
     "metadata": {},
     "output_type": "execute_result"
    }
   ],
   "source": [
    "df['education_num'].isnull().value_counts()"
   ]
  },
  {
   "cell_type": "code",
   "execution_count": 1082,
   "id": "85f3ee1e",
   "metadata": {},
   "outputs": [
    {
     "data": {
      "text/plain": [
       "16.0     1.268428\n",
       "15.0     1.769042\n",
       "14.0     5.291769\n",
       "13.0    16.443489\n",
       "12.0     3.277027\n",
       "11.0     4.244472\n",
       "10.0    22.392506\n",
       "9.0     32.251229\n",
       "8.0      1.329853\n",
       "7.0      3.608722\n",
       "6.0      2.865479\n",
       "5.0      1.578624\n",
       "4.0      1.984029\n",
       "3.0      1.022727\n",
       "2.0      0.515971\n",
       "1.0      0.156634\n",
       "Name: education_num, dtype: float64"
      ]
     },
     "execution_count": 1082,
     "metadata": {},
     "output_type": "execute_result"
    }
   ],
   "source": [
    "df['education_num'].value_counts().sort_index(ascending=False)*100/len(df)"
   ]
  },
  {
   "cell_type": "code",
   "execution_count": 1083,
   "id": "69ecb62b",
   "metadata": {},
   "outputs": [
    {
     "data": {
      "text/plain": [
       "array(['age', 'workclass', 'fnlwgt', 'education', 'education_num',\n",
       "       'marital_status', 'occupation', 'relationship', 'race', 'sex',\n",
       "       'capital_gain', 'capital_loss', 'hours_per_week', 'native_country',\n",
       "       'income'], dtype='<U14')"
      ]
     },
     "execution_count": 1083,
     "metadata": {},
     "output_type": "execute_result"
    }
   ],
   "source": [
    "cols"
   ]
  },
  {
   "cell_type": "code",
   "execution_count": 1084,
   "id": "f461a30e",
   "metadata": {},
   "outputs": [
    {
     "data": {
      "text/plain": [
       " Married-civ-spouse       45.995086\n",
       " Never-married            32.807125\n",
       " Divorced                 13.645577\n",
       " Separated                 3.148034\n",
       " Widowed                   3.049754\n",
       " Married-spouse-absent     1.283784\n",
       " Married-AF-spouse         0.070639\n",
       "Name: marital_status, dtype: float64"
      ]
     },
     "execution_count": 1084,
     "metadata": {},
     "output_type": "execute_result"
    }
   ],
   "source": [
    "df['marital_status'].value_counts()*100/len(df)"
   ]
  },
  {
   "cell_type": "code",
   "execution_count": 1085,
   "id": "ce5765be",
   "metadata": {},
   "outputs": [
    {
     "data": {
      "text/plain": [
       " Prof-specialty       4140\n",
       " Craft-repair         4099\n",
       " Exec-managerial      4066\n",
       " Adm-clerical         3769\n",
       " Sales                3650\n",
       " Other-service        3295\n",
       " Machine-op-inspct    2002\n",
       " ?                    1843\n",
       " Transport-moving     1597\n",
       " Handlers-cleaners    1370\n",
       " Farming-fishing       994\n",
       " Tech-support          928\n",
       " Protective-serv       649\n",
       " Priv-house-serv       149\n",
       " Armed-Forces            9\n",
       "Name: occupation, dtype: int64"
      ]
     },
     "execution_count": 1085,
     "metadata": {},
     "output_type": "execute_result"
    }
   ],
   "source": [
    "df['occupation'].value_counts()"
   ]
  },
  {
   "cell_type": "code",
   "execution_count": 1086,
   "id": "fdaed23b",
   "metadata": {},
   "outputs": [
    {
     "data": {
      "text/plain": [
       "array(['age', 'workclass', 'fnlwgt', 'education', 'education_num',\n",
       "       'marital_status', 'occupation'], dtype='<U14')"
      ]
     },
     "execution_count": 1086,
     "metadata": {},
     "output_type": "execute_result"
    }
   ],
   "source": [
    "cols1 = cols[0:7]\n",
    "cols1"
   ]
  },
  {
   "cell_type": "code",
   "execution_count": 1087,
   "id": "4f792f40",
   "metadata": {},
   "outputs": [
    {
     "name": "stdout",
     "output_type": "stream",
     "text": [
      "<class 'pandas.core.frame.DataFrame'>\n",
      "RangeIndex: 32560 entries, 0 to 32559\n",
      "Data columns (total 15 columns):\n",
      " #   Column          Non-Null Count  Dtype  \n",
      "---  ------          --------------  -----  \n",
      " 0   age             32560 non-null  float64\n",
      " 1   workclass       32560 non-null  object \n",
      " 2   fnlwgt          32560 non-null  float64\n",
      " 3   education       32560 non-null  object \n",
      " 4   education_num   32560 non-null  float64\n",
      " 5   marital_status  32560 non-null  object \n",
      " 6   occupation      32560 non-null  object \n",
      " 7   relationship    32560 non-null  object \n",
      " 8   race            32560 non-null  object \n",
      " 9   sex             32560 non-null  object \n",
      " 10  capital_gain    32560 non-null  float64\n",
      " 11  capital_loss    32560 non-null  float64\n",
      " 12  hours_per_week  32560 non-null  float64\n",
      " 13  native_country  32560 non-null  object \n",
      " 14  income          32560 non-null  object \n",
      "dtypes: float64(6), object(9)\n",
      "memory usage: 3.7+ MB\n"
     ]
    }
   ],
   "source": [
    "df.info()"
   ]
  },
  {
   "cell_type": "code",
   "execution_count": 1088,
   "id": "73c44499",
   "metadata": {},
   "outputs": [
    {
     "data": {
      "text/plain": [
       "array(['age', 'workclass', 'fnlwgt', 'education', 'education_num',\n",
       "       'marital_status', 'occupation', 'relationship', 'race', 'sex',\n",
       "       'capital_gain', 'capital_loss', 'hours_per_week', 'native_country',\n",
       "       'income'], dtype='<U14')"
      ]
     },
     "execution_count": 1088,
     "metadata": {},
     "output_type": "execute_result"
    }
   ],
   "source": [
    "cols"
   ]
  },
  {
   "cell_type": "code",
   "execution_count": null,
   "id": "4859f820",
   "metadata": {},
   "outputs": [],
   "source": []
  },
  {
   "cell_type": "code",
   "execution_count": 1089,
   "id": "e8c1227e",
   "metadata": {},
   "outputs": [
    {
     "name": "stdout",
     "output_type": "stream",
     "text": [
      "<class 'pandas.core.frame.DataFrame'>\n",
      "RangeIndex: 32560 entries, 0 to 32559\n",
      "Data columns (total 15 columns):\n",
      " #   Column          Non-Null Count  Dtype  \n",
      "---  ------          --------------  -----  \n",
      " 0   age             32560 non-null  float64\n",
      " 1   workclass       32560 non-null  object \n",
      " 2   fnlwgt          32560 non-null  float64\n",
      " 3   education       32560 non-null  object \n",
      " 4   education_num   32560 non-null  float64\n",
      " 5   marital_status  32560 non-null  object \n",
      " 6   occupation      32560 non-null  object \n",
      " 7   relationship    32560 non-null  object \n",
      " 8   race            32560 non-null  object \n",
      " 9   sex             32560 non-null  object \n",
      " 10  capital_gain    32560 non-null  float64\n",
      " 11  capital_loss    32560 non-null  float64\n",
      " 12  hours_per_week  32560 non-null  float64\n",
      " 13  native_country  32560 non-null  object \n",
      " 14  income          32560 non-null  object \n",
      "dtypes: float64(6), object(9)\n",
      "memory usage: 3.7+ MB\n"
     ]
    }
   ],
   "source": [
    "df.info()"
   ]
  },
  {
   "cell_type": "code",
   "execution_count": 1090,
   "id": "dec9ce48",
   "metadata": {},
   "outputs": [
    {
     "data": {
      "text/plain": [
       " Private             22696\n",
       " Self-emp-not-inc     2541\n",
       " Local-gov            2093\n",
       " ?                    1836\n",
       " State-gov            1297\n",
       " Self-emp-inc         1116\n",
       " Federal-gov           960\n",
       " Without-pay            14\n",
       " Never-worked            7\n",
       "Name: workclass, dtype: int64"
      ]
     },
     "execution_count": 1090,
     "metadata": {},
     "output_type": "execute_result"
    }
   ],
   "source": [
    "df.workclass.value_counts()"
   ]
  },
  {
   "cell_type": "code",
   "execution_count": 1091,
   "id": "787f08a3",
   "metadata": {},
   "outputs": [
    {
     "data": {
      "text/plain": [
       " HS-grad         10501\n",
       " Some-college     7291\n",
       " Bachelors        5354\n",
       " Masters          1723\n",
       " Assoc-voc        1382\n",
       " 11th             1175\n",
       " Assoc-acdm       1067\n",
       " 10th              933\n",
       " 7th-8th           646\n",
       " Prof-school       576\n",
       " 9th               514\n",
       " 12th              433\n",
       " Doctorate         413\n",
       " 5th-6th           333\n",
       " 1st-4th           168\n",
       " Preschool          51\n",
       "Name: education, dtype: int64"
      ]
     },
     "execution_count": 1091,
     "metadata": {},
     "output_type": "execute_result"
    }
   ],
   "source": [
    "df.education.value_counts()"
   ]
  },
  {
   "cell_type": "code",
   "execution_count": 1092,
   "id": "5cd99e35",
   "metadata": {},
   "outputs": [
    {
     "data": {
      "text/plain": [
       " Prof-specialty       4140\n",
       " Craft-repair         4099\n",
       " Exec-managerial      4066\n",
       " Adm-clerical         3769\n",
       " Sales                3650\n",
       " Other-service        3295\n",
       " Machine-op-inspct    2002\n",
       " ?                    1843\n",
       " Transport-moving     1597\n",
       " Handlers-cleaners    1370\n",
       " Farming-fishing       994\n",
       " Tech-support          928\n",
       " Protective-serv       649\n",
       " Priv-house-serv       149\n",
       " Armed-Forces            9\n",
       "Name: occupation, dtype: int64"
      ]
     },
     "execution_count": 1092,
     "metadata": {},
     "output_type": "execute_result"
    }
   ],
   "source": [
    "df.occupation.value_counts()"
   ]
  },
  {
   "cell_type": "code",
   "execution_count": 1093,
   "id": "cf1f75a7",
   "metadata": {},
   "outputs": [
    {
     "data": {
      "text/plain": [
       "Index(['age', 'workclass', 'fnlwgt', 'education', 'education_num',\n",
       "       'marital_status', 'occupation', 'relationship', 'race', 'sex',\n",
       "       'capital_gain', 'capital_loss', 'hours_per_week', 'native_country',\n",
       "       'income'],\n",
       "      dtype='object')"
      ]
     },
     "execution_count": 1093,
     "metadata": {},
     "output_type": "execute_result"
    }
   ],
   "source": [
    "df.columns"
   ]
  },
  {
   "cell_type": "code",
   "execution_count": 1094,
   "id": "42fdf6e6",
   "metadata": {},
   "outputs": [
    {
     "data": {
      "text/plain": [
       "pandas.core.indexes.base.Index"
      ]
     },
     "execution_count": 1094,
     "metadata": {},
     "output_type": "execute_result"
    }
   ],
   "source": [
    "type(df.columns)"
   ]
  },
  {
   "cell_type": "code",
   "execution_count": 1095,
   "id": "d5773711",
   "metadata": {},
   "outputs": [
    {
     "data": {
      "text/plain": [
       "education\n",
       " 10th            37.052519\n",
       " 11th            33.925957\n",
       " 12th            35.780600\n",
       " 1st-4th         38.255952\n",
       " 5th-6th         38.897898\n",
       " 7th-8th         39.366873\n",
       " 9th             38.044747\n",
       " Assoc-acdm      40.504217\n",
       " Assoc-voc       41.610709\n",
       " Bachelors       42.614494\n",
       " Doctorate       46.973366\n",
       " HS-grad         40.575374\n",
       " Masters         43.836332\n",
       " Preschool       36.647059\n",
       " Prof-school     47.425347\n",
       " Some-college    38.852284\n",
       "Name: hours_per_week, dtype: float64"
      ]
     },
     "execution_count": 1095,
     "metadata": {},
     "output_type": "execute_result"
    }
   ],
   "source": [
    "df_e = df.groupby(by='education').mean()\n",
    "df_e['hours_per_week']"
   ]
  },
  {
   "cell_type": "code",
   "execution_count": 1096,
   "id": "f6037936",
   "metadata": {},
   "outputs": [
    {
     "data": {
      "text/plain": [
       " <=50K    24719\n",
       " >50K      7841\n",
       "Name: income, dtype: int64"
      ]
     },
     "execution_count": 1096,
     "metadata": {},
     "output_type": "execute_result"
    }
   ],
   "source": [
    "df.income.value_counts()\n"
   ]
  },
  {
   "cell_type": "code",
   "execution_count": null,
   "id": "b9637d46",
   "metadata": {},
   "outputs": [],
   "source": []
  },
  {
   "cell_type": "code",
   "execution_count": null,
   "id": "53dd597d",
   "metadata": {},
   "outputs": [],
   "source": []
  },
  {
   "cell_type": "code",
   "execution_count": null,
   "id": "4c893efc",
   "metadata": {},
   "outputs": [],
   "source": []
  },
  {
   "cell_type": "code",
   "execution_count": 1097,
   "id": "602285ac",
   "metadata": {},
   "outputs": [
    {
     "data": {
      "image/png": "[encoded data removed]",
      "text/plain": [
       "<Figure size 1296x288 with 1 Axes>"
      ]
     },
     "metadata": {
      "needs_background": "light"
     },
     "output_type": "display_data"
    }
   ],
   "source": [
    "import matplotlib.pyplot as plt\n",
    "\n",
    "plt.figure(figsize=(18,4))\n",
    "df_e['hours_per_week'].plot(alpha=0.7, marker='^', markersize=12, linestyle='--', label=\"HRS_per_week\")\n",
    "plt.legend()\n",
    "plt.show()"
   ]
  },
  {
   "cell_type": "code",
   "execution_count": 1098,
   "id": "20289731",
   "metadata": {},
   "outputs": [
    {
     "data": {
      "text/plain": [
       "array([33.92595745, 35.78060046, 36.64705882, 37.05251876, 38.04474708,\n",
       "       38.25595238, 38.85228364, 38.8978979 , 39.36687307, 40.50421743,\n",
       "       40.57537377, 41.61070912, 42.61449384, 43.83633198, 46.97336562,\n",
       "       47.42534722])"
      ]
     },
     "execution_count": 1098,
     "metadata": {},
     "output_type": "execute_result"
    }
   ],
   "source": [
    "s = df_e['hours_per_week'].values.tolist()\n",
    "s1 = np.sort(s)\n",
    "s1"
   ]
  },
  {
   "cell_type": "code",
   "execution_count": 1099,
   "id": "70d60a95",
   "metadata": {},
   "outputs": [
    {
     "data": {
      "text/plain": [
       "[1, 2, 13, 0, 6, 3, 15, 4, 5, 7, 11, 8, 9, 12, 10, 14]"
      ]
     },
     "execution_count": 1099,
     "metadata": {},
     "output_type": "execute_result"
    }
   ],
   "source": [
    "idx_s = np.argsort(s).tolist()\n",
    "idx_s"
   ]
  },
  {
   "cell_type": "code",
   "execution_count": 1100,
   "id": "f6363bdb",
   "metadata": {},
   "outputs": [
    {
     "data": {
      "text/plain": [
       "[' 11th',\n",
       " ' 12th',\n",
       " ' Preschool',\n",
       " ' 10th',\n",
       " ' 9th',\n",
       " ' 1st-4th',\n",
       " ' Some-college',\n",
       " ' 5th-6th',\n",
       " ' 7th-8th',\n",
       " ' Assoc-acdm',\n",
       " ' HS-grad',\n",
       " ' Assoc-voc',\n",
       " ' Bachelors',\n",
       " ' Masters',\n",
       " ' Doctorate',\n",
       " ' Prof-school']"
      ]
     },
     "execution_count": 1100,
     "metadata": {},
     "output_type": "execute_result"
    }
   ],
   "source": [
    "idx = df_e.index\n",
    "idx1 = idx[idx_s].tolist()\n",
    "idx1"
   ]
  },
  {
   "cell_type": "code",
   "execution_count": null,
   "id": "fc25d4a9",
   "metadata": {},
   "outputs": [],
   "source": []
  },
  {
   "cell_type": "code",
   "execution_count": 1101,
   "id": "2d97b7f7",
   "metadata": {},
   "outputs": [
    {
     "data": {
      "image/png": "[encoded data removed]",
      "text/plain": [
       "<Figure size 1296x288 with 1 Axes>"
      ]
     },
     "metadata": {
      "needs_background": "light"
     },
     "output_type": "display_data"
    }
   ],
   "source": [
    "plt.figure(figsize=(18,4))\n",
    "\n",
    "plt.bar(idx1, s1, width=0.3, color='blue', alpha=0.3)\n",
    "plt.ylabel(\"Hours_per_week\")\n",
    "plt.show()"
   ]
  },
  {
   "cell_type": "code",
   "execution_count": 1102,
   "id": "43214c7a",
   "metadata": {},
   "outputs": [
    {
     "name": "stdout",
     "output_type": "stream",
     "text": [
      "<class 'pandas.core.frame.DataFrame'>\n",
      "RangeIndex: 32560 entries, 0 to 32559\n",
      "Data columns (total 15 columns):\n",
      " #   Column          Non-Null Count  Dtype  \n",
      "---  ------          --------------  -----  \n",
      " 0   age             32560 non-null  float64\n",
      " 1   workclass       32560 non-null  object \n",
      " 2   fnlwgt          32560 non-null  float64\n",
      " 3   education       32560 non-null  object \n",
      " 4   education_num   32560 non-null  float64\n",
      " 5   marital_status  32560 non-null  object \n",
      " 6   occupation      32560 non-null  object \n",
      " 7   relationship    32560 non-null  object \n",
      " 8   race            32560 non-null  object \n",
      " 9   sex             32560 non-null  object \n",
      " 10  capital_gain    32560 non-null  float64\n",
      " 11  capital_loss    32560 non-null  float64\n",
      " 12  hours_per_week  32560 non-null  float64\n",
      " 13  native_country  32560 non-null  object \n",
      " 14  income          32560 non-null  object \n",
      "dtypes: float64(6), object(9)\n",
      "memory usage: 3.7+ MB\n"
     ]
    }
   ],
   "source": [
    "df.info()"
   ]
  },
  {
   "cell_type": "code",
   "execution_count": 1103,
   "id": "32a3a157",
   "metadata": {},
   "outputs": [],
   "source": [
    "w = df.workclass.value_counts().index.tolist()\n",
    "wv = np.arange(1, len(w)+1)\n",
    "df.replace(to_replace=w, value=wv, inplace=True)"
   ]
  },
  {
   "cell_type": "code",
   "execution_count": 1104,
   "id": "00fe58ca",
   "metadata": {},
   "outputs": [],
   "source": [
    "e = df.education.value_counts().index.tolist()\n",
    "ev = np.arange(1, len(e)+1)\n",
    "df.replace(to_replace=e, value=ev, inplace=True)"
   ]
  },
  {
   "cell_type": "code",
   "execution_count": 1105,
   "id": "0966cd4b",
   "metadata": {},
   "outputs": [],
   "source": [
    "m = df.marital_status.value_counts().index.tolist()\n",
    "mv = np.arange(1, len(m)+1)\n",
    "df.replace(to_replace=m, value=mv, inplace=True)"
   ]
  },
  {
   "cell_type": "code",
   "execution_count": 1106,
   "id": "14d10284",
   "metadata": {},
   "outputs": [],
   "source": [
    "o = df.occupation.value_counts().index.tolist()\n",
    "ov = np.arange(1, len(o)+1)\n",
    "df.replace(to_replace=o, value=ov, inplace=True)"
   ]
  },
  {
   "cell_type": "code",
   "execution_count": 1107,
   "id": "ac5d347b",
   "metadata": {},
   "outputs": [],
   "source": [
    "r = df.relationship.value_counts().index.tolist()\n",
    "rv = np.arange(1, len(r)+1)\n",
    "df.replace(to_replace=r, value=rv, inplace=True)"
   ]
  },
  {
   "cell_type": "code",
   "execution_count": 1108,
   "id": "c74d4dd5",
   "metadata": {},
   "outputs": [],
   "source": [
    "ra = df.race.value_counts().index.tolist()\n",
    "rav = np.arange(1, len(ra)+1)\n",
    "df.replace(to_replace=ra, value=rav, inplace=True)"
   ]
  },
  {
   "cell_type": "code",
   "execution_count": 1109,
   "id": "87e65d14",
   "metadata": {},
   "outputs": [],
   "source": [
    "s = df.sex.value_counts().index.tolist()\n",
    "sv = np.arange(1, len(s)+1)\n",
    "df.replace(to_replace=s, value=sv, inplace=True)"
   ]
  },
  {
   "cell_type": "code",
   "execution_count": 1110,
   "id": "40995fbc",
   "metadata": {},
   "outputs": [],
   "source": [
    "n = df.native_country.value_counts().index.tolist()\n",
    "nv = np.arange(1, len(n)+1)\n",
    "df.replace(to_replace=n, value=nv, inplace=True)"
   ]
  },
  {
   "cell_type": "code",
   "execution_count": 1111,
   "id": "ffca62c9",
   "metadata": {},
   "outputs": [],
   "source": [
    "i = df.income.value_counts().index.tolist()\n",
    "iv = [0, 1]\n",
    "df.replace(to_replace=i, value=iv, inplace=True)"
   ]
  },
  {
   "cell_type": "code",
   "execution_count": 1112,
   "id": "d61f05fb",
   "metadata": {},
   "outputs": [
    {
     "data": {
      "text/plain": [
       "0    24719\n",
       "1     7841\n",
       "Name: income, dtype: int64"
      ]
     },
     "execution_count": 1112,
     "metadata": {},
     "output_type": "execute_result"
    }
   ],
   "source": [
    "df[\"income\"].value_counts()"
   ]
  },
  {
   "cell_type": "code",
   "execution_count": 1113,
   "id": "739e21da",
   "metadata": {},
   "outputs": [],
   "source": [
    "income = df[\"income\"].values"
   ]
  },
  {
   "cell_type": "code",
   "execution_count": 1114,
   "id": "6210c699",
   "metadata": {},
   "outputs": [],
   "source": [
    "import seaborn as sns\n",
    "import matplotlib.pyplot as plt"
   ]
  },
  {
   "cell_type": "code",
   "execution_count": 1115,
   "id": "c8eedacf",
   "metadata": {},
   "outputs": [
    {
     "data": {
      "text/plain": [
       "<AxesSubplot:>"
      ]
     },
     "execution_count": 1115,
     "metadata": {},
     "output_type": "execute_result"
    },
    {
     "data": {
      "image/png": "[encoded data removed]",
      "text/plain": [
       "<Figure size 1008x576 with 2 Axes>"
      ]
     },
     "metadata": {
      "needs_background": "light"
     },
     "output_type": "display_data"
    }
   ],
   "source": [
    "plt.figure(figsize=(14,8))\n",
    "cor = df.corr(method='pearson')\n",
    "sns.heatmap(cor, annot=True)"
   ]
  },
  {
   "cell_type": "code",
   "execution_count": 1116,
   "id": "030d9325",
   "metadata": {},
   "outputs": [
    {
     "data": {
      "text/plain": [
       "(15, 15)"
      ]
     },
     "execution_count": 1116,
     "metadata": {},
     "output_type": "execute_result"
    }
   ],
   "source": [
    "cor.shape"
   ]
  },
  {
   "cell_type": "code",
   "execution_count": 1117,
   "id": "7de92320",
   "metadata": {},
   "outputs": [
    {
     "data": {
      "text/plain": [
       "[5, 7, 9, 6, 8, 13, 2, 3, 1, 11, 10, 12, 0, 4]"
      ]
     },
     "execution_count": 1117,
     "metadata": {},
     "output_type": "execute_result"
    }
   ],
   "source": [
    "corv = cor.iloc[:,len(cor)-1]\n",
    "at = corv.index.tolist()\n",
    "atv = corv.values.tolist()\n",
    "del at[-1]\n",
    "del atv[-1]\n",
    "sidx = np.argsort(atv).tolist()\n",
    "sidx"
   ]
  },
  {
   "cell_type": "code",
   "execution_count": 1118,
   "id": "cfcb562d",
   "metadata": {},
   "outputs": [],
   "source": [
    "sidx.reverse()\n"
   ]
  },
  {
   "cell_type": "code",
   "execution_count": 1119,
   "id": "456a3d0c",
   "metadata": {},
   "outputs": [
    {
     "data": {
      "text/plain": [
       "[4, 0, 12, 10, 11, 1, 3, 2, 13, 8, 6, 9, 7, 5]"
      ]
     },
     "execution_count": 1119,
     "metadata": {},
     "output_type": "execute_result"
    }
   ],
   "source": [
    "sidx"
   ]
  },
  {
   "cell_type": "code",
   "execution_count": 1120,
   "id": "9bd0de1d",
   "metadata": {},
   "outputs": [],
   "source": [
    "att_r = []\n",
    "for j in sidx:\n",
    "    att_r.append(at[j])"
   ]
  },
  {
   "cell_type": "code",
   "execution_count": 1121,
   "id": "4e3769d0",
   "metadata": {},
   "outputs": [
    {
     "data": {
      "text/plain": [
       "['education_num',\n",
       " 'age',\n",
       " 'hours_per_week',\n",
       " 'capital_gain',\n",
       " 'capital_loss',\n",
       " 'workclass',\n",
       " 'education',\n",
       " 'fnlwgt',\n",
       " 'native_country',\n",
       " 'race',\n",
       " 'occupation',\n",
       " 'sex',\n",
       " 'relationship',\n",
       " 'marital_status']"
      ]
     },
     "execution_count": 1121,
     "metadata": {},
     "output_type": "execute_result"
    }
   ],
   "source": [
    "att_r"
   ]
  },
  {
   "cell_type": "code",
   "execution_count": 1122,
   "id": "8fe126bb",
   "metadata": {},
   "outputs": [],
   "source": [
    "atvs = np.sort(atv).tolist()\n",
    "atvs.reverse()"
   ]
  },
  {
   "cell_type": "code",
   "execution_count": 1123,
   "id": "dc255fd0",
   "metadata": {},
   "outputs": [
    {
     "data": {
      "text/plain": [
       "[0.3276553984596126,\n",
       " 0.23403877652659322,\n",
       " 0.22918582497165257,\n",
       " 0.22333254943510222,\n",
       " 0.1505234058446262,\n",
       " 0.1187005780157123,\n",
       " 0.050033267700340986,\n",
       " -0.009481165679736172,\n",
       " -0.01846898708812745,\n",
       " -0.06771964471667219,\n",
       " -0.15996297393654124,\n",
       " -0.21599500343820774,\n",
       " -0.2542963346151275,\n",
       " -0.31306967055741897]"
      ]
     },
     "execution_count": 1123,
     "metadata": {},
     "output_type": "execute_result"
    }
   ],
   "source": [
    "atvs"
   ]
  },
  {
   "cell_type": "code",
   "execution_count": 1124,
   "id": "b0c50a5b",
   "metadata": {},
   "outputs": [
    {
     "data": {
      "text/plain": [
       "<BarContainer object of 14 artists>"
      ]
     },
     "execution_count": 1124,
     "metadata": {},
     "output_type": "execute_result"
    },
    {
     "data": {
      "image/png": "[encoded data removed]",
      "text/plain": [
       "<Figure size 1296x432 with 1 Axes>"
      ]
     },
     "metadata": {
      "needs_background": "light"
     },
     "output_type": "display_data"
    }
   ],
   "source": [
    "plt.figure(figsize=(18,6))\n",
    "plt.bar(att_r, atvs)"
   ]
  },
  {
   "cell_type": "code",
   "execution_count": 1125,
   "id": "24a02afb",
   "metadata": {},
   "outputs": [
    {
     "data": {
      "text/plain": [
       "(32560, 15)"
      ]
     },
     "execution_count": 1125,
     "metadata": {},
     "output_type": "execute_result"
    }
   ],
   "source": [
    "n1, n2 = df.shape\n",
    "n1, n2"
   ]
  },
  {
   "cell_type": "code",
   "execution_count": 1126,
   "id": "bf0b0490",
   "metadata": {},
   "outputs": [
    {
     "data": {
      "text/plain": [
       "0    0.759183\n",
       "1    0.240817\n",
       "Name: income, dtype: float64"
      ]
     },
     "execution_count": 1126,
     "metadata": {},
     "output_type": "execute_result"
    }
   ],
   "source": [
    "df.income.value_counts()/n1"
   ]
  },
  {
   "cell_type": "code",
   "execution_count": 1127,
   "id": "0ac5c40d",
   "metadata": {},
   "outputs": [
    {
     "name": "stdout",
     "output_type": "stream",
     "text": [
      "<class 'pandas.core.frame.DataFrame'>\n",
      "RangeIndex: 32560 entries, 0 to 32559\n",
      "Data columns (total 15 columns):\n",
      " #   Column          Non-Null Count  Dtype  \n",
      "---  ------          --------------  -----  \n",
      " 0   age             32560 non-null  float64\n",
      " 1   workclass       32560 non-null  int64  \n",
      " 2   fnlwgt          32560 non-null  float64\n",
      " 3   education       32560 non-null  int64  \n",
      " 4   education_num   32560 non-null  float64\n",
      " 5   marital_status  32560 non-null  int64  \n",
      " 6   occupation      32560 non-null  int64  \n",
      " 7   relationship    32560 non-null  int64  \n",
      " 8   race            32560 non-null  int64  \n",
      " 9   sex             32560 non-null  int64  \n",
      " 10  capital_gain    32560 non-null  float64\n",
      " 11  capital_loss    32560 non-null  float64\n",
      " 12  hours_per_week  32560 non-null  float64\n",
      " 13  native_country  32560 non-null  int64  \n",
      " 14  income          32560 non-null  int64  \n",
      "dtypes: float64(6), int64(9)\n",
      "memory usage: 3.7 MB\n"
     ]
    }
   ],
   "source": [
    "df.info()"
   ]
  },
  {
   "cell_type": "raw",
   "id": "a720efda",
   "metadata": {},
   "source": [
    "make a correlation between for education group for this data and credit card client dataset  "
   ]
  },
  {
   "cell_type": "code",
   "execution_count": 1128,
   "id": "b70baf1b",
   "metadata": {},
   "outputs": [
    {
     "data": {
      "text/plain": [
       "(array(['age', 'workclass', 'fnlwgt', 'education', 'education_num',\n",
       "        'marital_status', 'occupation', 'relationship', 'race', 'sex',\n",
       "        'capital_gain', 'capital_loss', 'hours_per_week', 'native_country',\n",
       "        'income'], dtype='<U14'),\n",
       " 15)"
      ]
     },
     "execution_count": 1128,
     "metadata": {},
     "output_type": "execute_result"
    }
   ],
   "source": [
    "cols, len(cols)"
   ]
  },
  {
   "cell_type": "code",
   "execution_count": 1129,
   "id": "e55b55b2",
   "metadata": {},
   "outputs": [
    {
     "data": {
      "text/html": [
       "<div>\n",
       "<style scoped>\n",
       "    .dataframe tbody tr th:only-of-type {\n",
       "        vertical-align: middle;\n",
       "    }\n",
       "\n",
       "    .dataframe tbody tr th {\n",
       "        vertical-align: top;\n",
       "    }\n",
       "\n",
       "    .dataframe thead th {\n",
       "        text-align: right;\n",
       "    }\n",
       "</style>\n",
       "<table border=\"1\" class=\"dataframe\">\n",
       "  <thead>\n",
       "    <tr style=\"text-align: right;\">\n",
       "      <th></th>\n",
       "      <th>age</th>\n",
       "      <th>workclass</th>\n",
       "      <th>fnlwgt</th>\n",
       "      <th>education</th>\n",
       "      <th>education_num</th>\n",
       "      <th>marital_status</th>\n",
       "      <th>occupation</th>\n",
       "      <th>relationship</th>\n",
       "      <th>race</th>\n",
       "      <th>sex</th>\n",
       "    </tr>\n",
       "  </thead>\n",
       "  <tbody>\n",
       "    <tr>\n",
       "      <th>0</th>\n",
       "      <td>50.0</td>\n",
       "      <td>2</td>\n",
       "      <td>83311.0</td>\n",
       "      <td>3</td>\n",
       "      <td>13.0</td>\n",
       "      <td>1</td>\n",
       "      <td>3</td>\n",
       "      <td>1</td>\n",
       "      <td>1</td>\n",
       "      <td>1</td>\n",
       "    </tr>\n",
       "    <tr>\n",
       "      <th>1</th>\n",
       "      <td>38.0</td>\n",
       "      <td>1</td>\n",
       "      <td>215646.0</td>\n",
       "      <td>1</td>\n",
       "      <td>9.0</td>\n",
       "      <td>3</td>\n",
       "      <td>10</td>\n",
       "      <td>2</td>\n",
       "      <td>1</td>\n",
       "      <td>1</td>\n",
       "    </tr>\n",
       "    <tr>\n",
       "      <th>2</th>\n",
       "      <td>53.0</td>\n",
       "      <td>1</td>\n",
       "      <td>234721.0</td>\n",
       "      <td>6</td>\n",
       "      <td>7.0</td>\n",
       "      <td>1</td>\n",
       "      <td>10</td>\n",
       "      <td>1</td>\n",
       "      <td>2</td>\n",
       "      <td>1</td>\n",
       "    </tr>\n",
       "    <tr>\n",
       "      <th>3</th>\n",
       "      <td>28.0</td>\n",
       "      <td>1</td>\n",
       "      <td>338409.0</td>\n",
       "      <td>3</td>\n",
       "      <td>13.0</td>\n",
       "      <td>1</td>\n",
       "      <td>1</td>\n",
       "      <td>5</td>\n",
       "      <td>2</td>\n",
       "      <td>2</td>\n",
       "    </tr>\n",
       "    <tr>\n",
       "      <th>4</th>\n",
       "      <td>37.0</td>\n",
       "      <td>1</td>\n",
       "      <td>284582.0</td>\n",
       "      <td>3</td>\n",
       "      <td>14.0</td>\n",
       "      <td>1</td>\n",
       "      <td>3</td>\n",
       "      <td>5</td>\n",
       "      <td>1</td>\n",
       "      <td>2</td>\n",
       "    </tr>\n",
       "  </tbody>\n",
       "</table>\n",
       "</div>"
      ],
      "text/plain": [
       "    age  workclass    fnlwgt  education  education_num  marital_status  \\\n",
       "0  50.0          2   83311.0          3           13.0               1   \n",
       "1  38.0          1  215646.0          1            9.0               3   \n",
       "2  53.0          1  234721.0          6            7.0               1   \n",
       "3  28.0          1  338409.0          3           13.0               1   \n",
       "4  37.0          1  284582.0          3           14.0               1   \n",
       "\n",
       "   occupation  relationship  race  sex  \n",
       "0           3             1     1    1  \n",
       "1          10             2     1    1  \n",
       "2          10             1     2    1  \n",
       "3           1             5     2    2  \n",
       "4           3             5     1    2  "
      ]
     },
     "execution_count": 1129,
     "metadata": {},
     "output_type": "execute_result"
    }
   ],
   "source": [
    "df[cols[0:10]].head()"
   ]
  },
  {
   "cell_type": "code",
   "execution_count": 1130,
   "id": "00e9fcb5",
   "metadata": {},
   "outputs": [
    {
     "data": {
      "text/html": [
       "<div>\n",
       "<style scoped>\n",
       "    .dataframe tbody tr th:only-of-type {\n",
       "        vertical-align: middle;\n",
       "    }\n",
       "\n",
       "    .dataframe tbody tr th {\n",
       "        vertical-align: top;\n",
       "    }\n",
       "\n",
       "    .dataframe thead th {\n",
       "        text-align: right;\n",
       "    }\n",
       "</style>\n",
       "<table border=\"1\" class=\"dataframe\">\n",
       "  <thead>\n",
       "    <tr style=\"text-align: right;\">\n",
       "      <th></th>\n",
       "      <th>capital_loss</th>\n",
       "      <th>hours_per_week</th>\n",
       "      <th>native_country</th>\n",
       "      <th>income</th>\n",
       "    </tr>\n",
       "  </thead>\n",
       "  <tbody>\n",
       "    <tr>\n",
       "      <th>0</th>\n",
       "      <td>0.0</td>\n",
       "      <td>13.0</td>\n",
       "      <td>1</td>\n",
       "      <td>0</td>\n",
       "    </tr>\n",
       "    <tr>\n",
       "      <th>1</th>\n",
       "      <td>0.0</td>\n",
       "      <td>40.0</td>\n",
       "      <td>1</td>\n",
       "      <td>0</td>\n",
       "    </tr>\n",
       "    <tr>\n",
       "      <th>2</th>\n",
       "      <td>0.0</td>\n",
       "      <td>40.0</td>\n",
       "      <td>1</td>\n",
       "      <td>0</td>\n",
       "    </tr>\n",
       "    <tr>\n",
       "      <th>3</th>\n",
       "      <td>0.0</td>\n",
       "      <td>40.0</td>\n",
       "      <td>10</td>\n",
       "      <td>0</td>\n",
       "    </tr>\n",
       "    <tr>\n",
       "      <th>4</th>\n",
       "      <td>0.0</td>\n",
       "      <td>40.0</td>\n",
       "      <td>1</td>\n",
       "      <td>0</td>\n",
       "    </tr>\n",
       "  </tbody>\n",
       "</table>\n",
       "</div>"
      ],
      "text/plain": [
       "   capital_loss  hours_per_week  native_country  income\n",
       "0           0.0            13.0               1       0\n",
       "1           0.0            40.0               1       0\n",
       "2           0.0            40.0               1       0\n",
       "3           0.0            40.0              10       0\n",
       "4           0.0            40.0               1       0"
      ]
     },
     "execution_count": 1130,
     "metadata": {},
     "output_type": "execute_result"
    }
   ],
   "source": [
    "df[cols[11:15]].head()"
   ]
  },
  {
   "cell_type": "code",
   "execution_count": 1131,
   "id": "c537f1de",
   "metadata": {},
   "outputs": [],
   "source": [
    "from sklearn.preprocessing import StandardScaler"
   ]
  },
  {
   "cell_type": "code",
   "execution_count": 1132,
   "id": "f5c7ca09",
   "metadata": {},
   "outputs": [],
   "source": [
    "df.to_csv(\"./DATA/spark-adult-processed-data.csv\", header=True)"
   ]
  },
  {
   "cell_type": "code",
   "execution_count": null,
   "id": "e43a8204",
   "metadata": {},
   "outputs": [],
   "source": []
  },
  {
   "cell_type": "code",
   "execution_count": 1133,
   "id": "14bee92f",
   "metadata": {},
   "outputs": [
    {
     "data": {
      "text/plain": [
       "array(['age', 'workclass', 'fnlwgt', 'education', 'education_num',\n",
       "       'marital_status', 'occupation', 'relationship', 'race', 'sex',\n",
       "       'capital_gain', 'capital_loss', 'hours_per_week', 'native_country'],\n",
       "      dtype='<U14')"
      ]
     },
     "execution_count": 1133,
     "metadata": {},
     "output_type": "execute_result"
    }
   ],
   "source": [
    "cols1 = cols[0:len(cols)-1]\n",
    "cols1"
   ]
  },
  {
   "cell_type": "code",
   "execution_count": 1134,
   "id": "ff55fc11",
   "metadata": {},
   "outputs": [
    {
     "data": {
      "text/plain": [
       "(32560, 14)"
      ]
     },
     "execution_count": 1134,
     "metadata": {},
     "output_type": "execute_result"
    }
   ],
   "source": [
    "X = df[cols1].values\n",
    "X.shape"
   ]
  },
  {
   "cell_type": "code",
   "execution_count": 1135,
   "id": "024a1cf4",
   "metadata": {},
   "outputs": [],
   "source": [
    "X = StandardScaler().fit(X).transform(X)"
   ]
  },
  {
   "cell_type": "code",
   "execution_count": 1136,
   "id": "3afe9008",
   "metadata": {},
   "outputs": [
    {
     "data": {
      "text/plain": [
       "(1.0, 1.9203857723245952e-17)"
      ]
     },
     "execution_count": 1136,
     "metadata": {},
     "output_type": "execute_result"
    }
   ],
   "source": [
    "X.std(), X.mean()"
   ]
  },
  {
   "cell_type": "code",
   "execution_count": 1137,
   "id": "f4c7ab92",
   "metadata": {},
   "outputs": [],
   "source": [
    "y = df[\"income\"].values"
   ]
  },
  {
   "cell_type": "code",
   "execution_count": 1138,
   "id": "7efd1ba0",
   "metadata": {},
   "outputs": [],
   "source": [
    "from sklearn.metrics import roc_auc_score, accuracy_score, roc_curve, average_precision_score\n",
    "from sklearn.model_selection import train_test_split"
   ]
  },
  {
   "cell_type": "code",
   "execution_count": 1139,
   "id": "e9776cab",
   "metadata": {},
   "outputs": [
    {
     "data": {
      "text/plain": [
       "((26048, 14), (6512, 14))"
      ]
     },
     "execution_count": 1139,
     "metadata": {},
     "output_type": "execute_result"
    }
   ],
   "source": [
    "X_tr, X_t, y_tr, y_t = train_test_split(X, y, test_size=0.2, random_state=100)\n",
    "X_tr.shape, X_t.shape"
   ]
  },
  {
   "cell_type": "code",
   "execution_count": 1140,
   "id": "37d9fa7b",
   "metadata": {},
   "outputs": [],
   "source": [
    "from sklearn.linear_model import LogisticRegression "
   ]
  },
  {
   "cell_type": "code",
   "execution_count": 1141,
   "id": "5e7160f3",
   "metadata": {},
   "outputs": [],
   "source": [
    "clf = LogisticRegression(max_iter=130, solver='lbfgs')\n",
    "clf.fit(X_tr, y_tr)\n",
    "y_p = clf.predict(X_t)"
   ]
  },
  {
   "cell_type": "code",
   "execution_count": 1142,
   "id": "a42b09dd",
   "metadata": {},
   "outputs": [
    {
     "data": {
      "text/plain": [
       "(0.7364469557261314, 0.8386056511056511)"
      ]
     },
     "execution_count": 1142,
     "metadata": {},
     "output_type": "execute_result"
    }
   ],
   "source": [
    "roc = roc_auc_score(y_t, y_p)\n",
    "roc, accuracy_score(y_t, y_p)"
   ]
  },
  {
   "cell_type": "raw",
   "id": "0ff7dc0f",
   "metadata": {},
   "source": [
    "X = StandardScaler().fit(X).transform(X)     : (0.7364469557261314, 0.8386056511056511)  ** it improves with Regularization \n",
    "\n",
    "#X = StandardScaler().fit(X).transform(X)     :  (0.6192492953417191, 0.7957616707616708)\n",
    "\n",
    "** Regularization is crucial factor for LogReg\n",
    "\n",
    "clf = LogisticRegression(max_iter=130)        : (0.6192492953417191, 0.7957616707616708) \n",
    "\n",
    "** LogisticRegression(max_iter=130, solver='lbfgs'): (0.7364469557261314, 0.8386056511056511) \n",
    "\n",
    "\n",
    "LogisticRegression(max_iter=130, solver='liblinear')  : (0.7364469557261314, 0.8386056511056511)"
   ]
  },
  {
   "cell_type": "raw",
   "id": "b8e0d6e7",
   "metadata": {},
   "source": [
    "penalty : {'l1', 'l2', 'elasticnet', 'none'}, default='l2'\n",
    "\n",
    "\n",
    "C : float, default=1.0\n",
    "\n",
    "\n",
    "solver : {'newton-cg', 'lbfgs', 'liblinear', 'sag', 'saga'},             default='lbfgs'\n",
    "\n",
    "\n",
    "max_iter : int, default=100  |   Maximum number of iterations taken for the solvers to converge.\n",
    "\n",
    "multi_class : {'auto', 'ovr', 'multinomial'}, default='auto'\n",
    "\n"
   ]
  },
  {
   "cell_type": "code",
   "execution_count": null,
   "id": "c3a9fef9",
   "metadata": {},
   "outputs": [],
   "source": []
  },
  {
   "cell_type": "code",
   "execution_count": null,
   "id": "440468d9",
   "metadata": {},
   "outputs": [],
   "source": []
  },
  {
   "cell_type": "code",
   "execution_count": null,
   "id": "a02ab654",
   "metadata": {},
   "outputs": [],
   "source": []
  },
  {
   "cell_type": "code",
   "execution_count": 1143,
   "id": "2e56497c",
   "metadata": {},
   "outputs": [],
   "source": [
    "proba = clf.predict_proba(X_t)"
   ]
  },
  {
   "cell_type": "code",
   "execution_count": 1144,
   "id": "7ac3c3bf",
   "metadata": {},
   "outputs": [
    {
     "data": {
      "text/plain": [
       "(6512, 2)"
      ]
     },
     "execution_count": 1144,
     "metadata": {},
     "output_type": "execute_result"
    }
   ],
   "source": [
    "proba.shape"
   ]
  },
  {
   "cell_type": "code",
   "execution_count": 1145,
   "id": "1a96af14",
   "metadata": {},
   "outputs": [
    {
     "data": {
      "text/plain": [
       "array([[0.99689529, 0.00310471],\n",
       "       [0.98540915, 0.01459085],\n",
       "       [0.64644818, 0.35355182],\n",
       "       [0.97721014, 0.02278986],\n",
       "       [0.586211  , 0.413789  ],\n",
       "       [0.60728284, 0.39271716],\n",
       "       [0.78897381, 0.21102619],\n",
       "       [0.99246708, 0.00753292],\n",
       "       [0.95630783, 0.04369217],\n",
       "       [0.9883311 , 0.0116689 ]])"
      ]
     },
     "execution_count": 1145,
     "metadata": {},
     "output_type": "execute_result"
    }
   ],
   "source": [
    "proba[0:10,:]"
   ]
  },
  {
   "cell_type": "code",
   "execution_count": 1146,
   "id": "7eb4d129",
   "metadata": {},
   "outputs": [
    {
     "data": {
      "text/plain": [
       "1.0"
      ]
     },
     "execution_count": 1146,
     "metadata": {},
     "output_type": "execute_result"
    }
   ],
   "source": [
    "0.78897381+ 0.21102619"
   ]
  },
  {
   "cell_type": "code",
   "execution_count": 1147,
   "id": "85210fe6",
   "metadata": {},
   "outputs": [
    {
     "data": {
      "text/plain": [
       "(2.6645352591003757e-15, 0.9999202537888427)"
      ]
     },
     "execution_count": 1147,
     "metadata": {},
     "output_type": "execute_result"
    }
   ],
   "source": [
    "proba[:,0].min(), proba[:,0].max()"
   ]
  },
  {
   "cell_type": "code",
   "execution_count": 1148,
   "id": "bba6752b",
   "metadata": {},
   "outputs": [],
   "source": [
    "proba1 = proba[:,1]"
   ]
  },
  {
   "cell_type": "code",
   "execution_count": 1149,
   "id": "a47d2946",
   "metadata": {},
   "outputs": [],
   "source": [
    "FPR, TPR, _ = roc_curve(y_t, proba1)\n",
    "fpr_nc, tpr_nc, _ = roc_curve(y_t, np.zeros(len(y_t)))"
   ]
  },
  {
   "cell_type": "code",
   "execution_count": 1150,
   "id": "bece60d3",
   "metadata": {},
   "outputs": [
    {
     "data": {
      "image/png": "[encoded data removed]",
      "text/plain": [
       "<Figure size 576x288 with 1 Axes>"
      ]
     },
     "metadata": {
      "needs_background": "light"
     },
     "output_type": "display_data"
    }
   ],
   "source": [
    "plt.figure(figsize=(8,4))\n",
    "\n",
    "plt.plot(FPR, TPR, ' r', linestyle=\"--\", label=\"LogReg\")\n",
    "plt.plot(fpr_nc, tpr_nc, 'g', linestyle=\"--\", label=\"No Classifier\")\n",
    "plt.xlabel(\"FPR\")\n",
    "plt.ylabel(\"TPR\")\n",
    "plt.title(\"Area under the ROC curve : 0.74 \")\n",
    "plt.legend()\n",
    "plt.show()"
   ]
  },
  {
   "cell_type": "code",
   "execution_count": 1151,
   "id": "f87149e3",
   "metadata": {},
   "outputs": [
    {
     "data": {
      "text/plain": [
       "0.5139289071840861"
      ]
     },
     "execution_count": 1151,
     "metadata": {},
     "output_type": "execute_result"
    }
   ],
   "source": [
    "average_precision_score(y_t, y_p)"
   ]
  },
  {
   "cell_type": "code",
   "execution_count": 1152,
   "id": "2c82f541",
   "metadata": {},
   "outputs": [],
   "source": [
    "from sklearn.decomposition import PCA\n",
    "from sklearn.linear_model import LogisticRegression\n",
    "from sklearn.pipeline import Pipeline\n",
    "from sklearn.model_selection import GridSearchCV\n",
    "\n",
    "import warnings\n",
    "warnings.filterwarnings(\"ignore\")\n"
   ]
  },
  {
   "cell_type": "code",
   "execution_count": 1153,
   "id": "0aa61098",
   "metadata": {},
   "outputs": [],
   "source": [
    "pca = PCA()\n",
    "# Define a Standard Scaler to normalize inputs\n",
    "scaler = StandardScaler()\n",
    "\n",
    "# set the tolerance to a large value to make the example faster\n",
    "logistic = LogisticRegression(max_iter=10000, tol=0.1)\n",
    "pipe = Pipeline(steps=[(\"scaler\", scaler), (\"pca\", pca), (\"logistic\", logistic)])"
   ]
  },
  {
   "cell_type": "code",
   "execution_count": 1154,
   "id": "38dbbbeb",
   "metadata": {},
   "outputs": [],
   "source": [
    "param_grid = {\n",
    "    \"pca__n_components\": [5, 15, 30, 45, 60],\n",
    "    \"logistic__C\": np.logspace(-4, 4, 4),\n",
    "}\n",
    "search = GridSearchCV(pipe, param_grid, n_jobs=2)"
   ]
  },
  {
   "cell_type": "code",
   "execution_count": 1155,
   "id": "e5de484f",
   "metadata": {},
   "outputs": [
    {
     "name": "stdout",
     "output_type": "stream",
     "text": [
      "Best parameter (CV score=0.820):\n",
      "{'logistic__C': 0.046415888336127774, 'pca__n_components': 5}\n"
     ]
    }
   ],
   "source": [
    "search.fit(X_tr, y_tr)\n",
    "print(\"Best parameter (CV score=%0.3f):\" % search.best_score_)\n",
    "print(search.best_params_)"
   ]
  },
  {
   "cell_type": "code",
   "execution_count": null,
   "id": "dc26f08c",
   "metadata": {},
   "outputs": [],
   "source": []
  },
  {
   "cell_type": "code",
   "execution_count": null,
   "id": "4c88ff31",
   "metadata": {},
   "outputs": [],
   "source": []
  },
  {
   "cell_type": "code",
   "execution_count": null,
   "id": "ff4b1e77",
   "metadata": {},
   "outputs": [],
   "source": []
  },
  {
   "cell_type": "code",
   "execution_count": null,
   "id": "0eff3d0b",
   "metadata": {},
   "outputs": [],
   "source": []
  },
  {
   "cell_type": "code",
   "execution_count": null,
   "id": "75f6d9e5",
   "metadata": {},
   "outputs": [],
   "source": []
  },
  {
   "cell_type": "code",
   "execution_count": null,
   "id": "d3b9af92",
   "metadata": {},
   "outputs": [],
   "source": []
  }
 ],
 "metadata": {
  "kernelspec": {
   "display_name": "Python 3",
   "language": "python",
   "name": "python3"
  },
  "language_info": {
   "codemirror_mode": {
    "name": "ipython",
    "version": 3
   },
   "file_extension": ".py",
   "mimetype": "text/x-python",
   "name": "python",
   "nbconvert_exporter": "python",
   "pygments_lexer": "ipython3",
   "version": "3.8.8"
  }
 },
 "nbformat": 4,
 "nbformat_minor": 5
}
