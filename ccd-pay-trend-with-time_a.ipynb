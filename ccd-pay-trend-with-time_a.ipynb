{
 "cells": [
  {
   "cell_type": "code",
   "execution_count": 1,
   "metadata": {},
   "outputs": [],
   "source": [
    "import pandas as pd \n",
    "import numpy as np\n",
    "\n",
    "import matplotlib.pyplot as plt\n",
    "import seaborn as sns\n",
    "\n",
    "import warnings\n",
    "warnings.filterwarnings(\"ignore\")"
   ]
  },
  {
   "cell_type": "code",
   "execution_count": 2,
   "metadata": {},
   "outputs": [
    {
     "data": {
      "text/html": [
       "<div>\n",
       "<style scoped>\n",
       "    .dataframe tbody tr th:only-of-type {\n",
       "        vertical-align: middle;\n",
       "    }\n",
       "\n",
       "    .dataframe tbody tr th {\n",
       "        vertical-align: top;\n",
       "    }\n",
       "\n",
       "    .dataframe thead th {\n",
       "        text-align: right;\n",
       "    }\n",
       "</style>\n",
       "<table border=\"1\" class=\"dataframe\">\n",
       "  <thead>\n",
       "    <tr style=\"text-align: right;\">\n",
       "      <th></th>\n",
       "      <th>ID</th>\n",
       "      <th>LIMIT_BAL</th>\n",
       "      <th>SEX</th>\n",
       "      <th>EDUCATION</th>\n",
       "      <th>MARRIAGE</th>\n",
       "      <th>AGE</th>\n",
       "      <th>PAY_1</th>\n",
       "      <th>PAY_2</th>\n",
       "      <th>PAY_3</th>\n",
       "      <th>PAY_4</th>\n",
       "      <th>...</th>\n",
       "      <th>BILL_AMT4</th>\n",
       "      <th>BILL_AMT5</th>\n",
       "      <th>BILL_AMT6</th>\n",
       "      <th>PAY_AMT1</th>\n",
       "      <th>PAY_AMT2</th>\n",
       "      <th>PAY_AMT3</th>\n",
       "      <th>PAY_AMT4</th>\n",
       "      <th>PAY_AMT5</th>\n",
       "      <th>PAY_AMT6</th>\n",
       "      <th>DPNM</th>\n",
       "    </tr>\n",
       "  </thead>\n",
       "  <tbody>\n",
       "    <tr>\n",
       "      <th>0</th>\n",
       "      <td>1</td>\n",
       "      <td>20000</td>\n",
       "      <td>2</td>\n",
       "      <td>2</td>\n",
       "      <td>1</td>\n",
       "      <td>24</td>\n",
       "      <td>2</td>\n",
       "      <td>2</td>\n",
       "      <td>-1</td>\n",
       "      <td>-1</td>\n",
       "      <td>...</td>\n",
       "      <td>0</td>\n",
       "      <td>0</td>\n",
       "      <td>0</td>\n",
       "      <td>0</td>\n",
       "      <td>689</td>\n",
       "      <td>0</td>\n",
       "      <td>0</td>\n",
       "      <td>0</td>\n",
       "      <td>0</td>\n",
       "      <td>1</td>\n",
       "    </tr>\n",
       "    <tr>\n",
       "      <th>1</th>\n",
       "      <td>2</td>\n",
       "      <td>120000</td>\n",
       "      <td>2</td>\n",
       "      <td>2</td>\n",
       "      <td>2</td>\n",
       "      <td>26</td>\n",
       "      <td>-1</td>\n",
       "      <td>2</td>\n",
       "      <td>0</td>\n",
       "      <td>0</td>\n",
       "      <td>...</td>\n",
       "      <td>3272</td>\n",
       "      <td>3455</td>\n",
       "      <td>3261</td>\n",
       "      <td>0</td>\n",
       "      <td>1000</td>\n",
       "      <td>1000</td>\n",
       "      <td>1000</td>\n",
       "      <td>0</td>\n",
       "      <td>2000</td>\n",
       "      <td>1</td>\n",
       "    </tr>\n",
       "    <tr>\n",
       "      <th>2</th>\n",
       "      <td>3</td>\n",
       "      <td>90000</td>\n",
       "      <td>2</td>\n",
       "      <td>2</td>\n",
       "      <td>2</td>\n",
       "      <td>34</td>\n",
       "      <td>0</td>\n",
       "      <td>0</td>\n",
       "      <td>0</td>\n",
       "      <td>0</td>\n",
       "      <td>...</td>\n",
       "      <td>14331</td>\n",
       "      <td>14948</td>\n",
       "      <td>15549</td>\n",
       "      <td>1518</td>\n",
       "      <td>1500</td>\n",
       "      <td>1000</td>\n",
       "      <td>1000</td>\n",
       "      <td>1000</td>\n",
       "      <td>5000</td>\n",
       "      <td>0</td>\n",
       "    </tr>\n",
       "    <tr>\n",
       "      <th>3</th>\n",
       "      <td>4</td>\n",
       "      <td>50000</td>\n",
       "      <td>2</td>\n",
       "      <td>2</td>\n",
       "      <td>1</td>\n",
       "      <td>37</td>\n",
       "      <td>0</td>\n",
       "      <td>0</td>\n",
       "      <td>0</td>\n",
       "      <td>0</td>\n",
       "      <td>...</td>\n",
       "      <td>28314</td>\n",
       "      <td>28959</td>\n",
       "      <td>29547</td>\n",
       "      <td>2000</td>\n",
       "      <td>2019</td>\n",
       "      <td>1200</td>\n",
       "      <td>1100</td>\n",
       "      <td>1069</td>\n",
       "      <td>1000</td>\n",
       "      <td>0</td>\n",
       "    </tr>\n",
       "    <tr>\n",
       "      <th>4</th>\n",
       "      <td>5</td>\n",
       "      <td>50000</td>\n",
       "      <td>1</td>\n",
       "      <td>2</td>\n",
       "      <td>1</td>\n",
       "      <td>57</td>\n",
       "      <td>-1</td>\n",
       "      <td>0</td>\n",
       "      <td>-1</td>\n",
       "      <td>0</td>\n",
       "      <td>...</td>\n",
       "      <td>20940</td>\n",
       "      <td>19146</td>\n",
       "      <td>19131</td>\n",
       "      <td>2000</td>\n",
       "      <td>36681</td>\n",
       "      <td>10000</td>\n",
       "      <td>9000</td>\n",
       "      <td>689</td>\n",
       "      <td>679</td>\n",
       "      <td>0</td>\n",
       "    </tr>\n",
       "  </tbody>\n",
       "</table>\n",
       "<p>5 rows × 25 columns</p>\n",
       "</div>"
      ],
      "text/plain": [
       "   ID  LIMIT_BAL  SEX  EDUCATION  MARRIAGE  AGE  PAY_1  PAY_2  PAY_3  PAY_4  \\\n",
       "0   1      20000    2          2         1   24      2      2     -1     -1   \n",
       "1   2     120000    2          2         2   26     -1      2      0      0   \n",
       "2   3      90000    2          2         2   34      0      0      0      0   \n",
       "3   4      50000    2          2         1   37      0      0      0      0   \n",
       "4   5      50000    1          2         1   57     -1      0     -1      0   \n",
       "\n",
       "   ...  BILL_AMT4  BILL_AMT5  BILL_AMT6  PAY_AMT1  PAY_AMT2  PAY_AMT3  \\\n",
       "0  ...          0          0          0         0       689         0   \n",
       "1  ...       3272       3455       3261         0      1000      1000   \n",
       "2  ...      14331      14948      15549      1518      1500      1000   \n",
       "3  ...      28314      28959      29547      2000      2019      1200   \n",
       "4  ...      20940      19146      19131      2000     36681     10000   \n",
       "\n",
       "   PAY_AMT4  PAY_AMT5  PAY_AMT6  DPNM  \n",
       "0         0         0         0     1  \n",
       "1      1000         0      2000     1  \n",
       "2      1000      1000      5000     0  \n",
       "3      1100      1069      1000     0  \n",
       "4      9000       689       679     0  \n",
       "\n",
       "[5 rows x 25 columns]"
      ]
     },
     "execution_count": 2,
     "metadata": {},
     "output_type": "execute_result"
    }
   ],
   "source": [
    "df = pd.read_csv(\"./DATA/default_of_credit_card_clients.csv\")\n",
    "df.head()"
   ]
  },
  {
   "cell_type": "code",
   "execution_count": 3,
   "metadata": {},
   "outputs": [
    {
     "data": {
      "text/plain": [
       "['ID',\n",
       " 'LIMIT_BAL',\n",
       " 'SEX',\n",
       " 'EDUCATION',\n",
       " 'MARRIAGE',\n",
       " 'AGE',\n",
       " 'PAY_1',\n",
       " 'PAY_2',\n",
       " 'PAY_3',\n",
       " 'PAY_4',\n",
       " 'PAY_5',\n",
       " 'PAY_6',\n",
       " 'BILL_AMT1',\n",
       " 'BILL_AMT2',\n",
       " 'BILL_AMT3',\n",
       " 'BILL_AMT4',\n",
       " 'BILL_AMT5',\n",
       " 'BILL_AMT6',\n",
       " 'PAY_AMT1',\n",
       " 'PAY_AMT2',\n",
       " 'PAY_AMT3',\n",
       " 'PAY_AMT4',\n",
       " 'PAY_AMT5',\n",
       " 'PAY_AMT6',\n",
       " 'DPNM']"
      ]
     },
     "execution_count": 3,
     "metadata": {},
     "output_type": "execute_result"
    }
   ],
   "source": [
    "df.columns.to_list()"
   ]
  },
  {
   "cell_type": "code",
   "execution_count": 4,
   "metadata": {},
   "outputs": [],
   "source": [
    "df.rename(columns={'ID':'id', 'LIMIT_BAL':'bal',\n",
    "                    'SEX':'gen', 'EDUCATION':'edu',\n",
    "                    'MARRIAGE':'mary', 'AGE':'age',\n",
    "                    'PAY_1':'p1', 'PAY_2':'p2',\n",
    "                    'PAY_3':'p3','PAY_4':'p4',\n",
    "                    'PAY_5':'p5','PAY_6':'p6',\n",
    "                    'BILL_AMT1':'$b1', 'BILL_AMT2':'$b2',\n",
    "                    'BILL_AMT3':'$b3', 'BILL_AMT4':'$b4',\n",
    "                    'BILL_AMT5':'$b5', 'BILL_AMT6':'$b6',\n",
    "                    'PAY_AMT1':'$p1','PAY_AMT2':'$p2',\n",
    "                    'PAY_AMT3':'$p3', 'PAY_AMT4':'$p4',\n",
    "                    'PAY_AMT5':'$p5', 'PAY_AMT6':'$p6'}, inplace=True)"
   ]
  },
  {
   "cell_type": "code",
   "execution_count": 5,
   "metadata": {},
   "outputs": [
    {
     "data": {
      "text/plain": [
       "Index(['id', 'bal', 'gen', 'edu', 'mary', 'age', 'p1', 'p2', 'p3', 'p4', 'p5',\n",
       "       'p6', '$b1', '$b2', '$b3', '$b4', '$b5', '$b6', '$p1', '$p2', '$p3',\n",
       "       '$p4', '$p5', '$p6', 'DPNM'],\n",
       "      dtype='object')"
      ]
     },
     "execution_count": 5,
     "metadata": {},
     "output_type": "execute_result"
    }
   ],
   "source": [
    "df.columns"
   ]
  },
  {
   "cell_type": "code",
   "execution_count": 6,
   "metadata": {},
   "outputs": [],
   "source": [
    "payst1 = [ 'p1', 'p2', 'p3', 'p4', 'p5', 'p6' ]\n",
    "billsd1 = [ '$b1', '$b2', '$b3', '$b4', '$b5', '$b6' ]\n",
    "paysd1 = [ '$p1', '$p2', '$p3', '$p4', '$p5', '$p6' ]"
   ]
  },
  {
   "cell_type": "code",
   "execution_count": 7,
   "metadata": {},
   "outputs": [
    {
     "data": {
      "text/plain": [
       "Index(['id', 'bal', 'gen', 'edu', 'mary', 'age', 'p1', 'p2', 'p3', 'p4', 'p5',\n",
       "       'p6', '$b1', '$b2', '$b3', '$b4', '$b5', '$b6', '$p1', '$p2', '$p3',\n",
       "       '$p4', '$p5', '$p6', 'DPNM'],\n",
       "      dtype='object')"
      ]
     },
     "execution_count": 7,
     "metadata": {},
     "output_type": "execute_result"
    }
   ],
   "source": [
    "df.columns"
   ]
  },
  {
   "cell_type": "code",
   "execution_count": 8,
   "metadata": {},
   "outputs": [
    {
     "name": "stdout",
     "output_type": "stream",
     "text": [
      "hb1\n",
      "0    0.821133\n",
      "1    0.178867\n",
      "Name: count, dtype: float64\n",
      "hb1\n",
      "0    0.7531\n",
      "1    0.2469\n",
      "Name: count, dtype: float64\n",
      "hb3\n",
      "0    0.751033\n",
      "1    0.248967\n",
      "Name: count, dtype: float64\n",
      "hb4\n",
      "0    0.7456\n",
      "1    0.2544\n",
      "Name: count, dtype: float64\n",
      "hb5\n",
      "0    0.721867\n",
      "1    0.278133\n",
      "Name: count, dtype: float64\n",
      "hb6\n",
      "0    0.700667\n",
      "1    0.299333\n",
      "Name: count, dtype: float64\n"
     ]
    }
   ],
   "source": [
    "hb_cols1 = ['hb1', 'hb1', 'hb3', 'hb4', 'hb5', 'hb6']\n",
    "\n",
    "j=0\n",
    "for c in payst1:\n",
    "    datat1 = df[c].values\n",
    "    datapd1 = df[paysd1[j]]\n",
    "    databd1 = df[billsd1[j]]\n",
    "    v_col = []\n",
    "    k = 0\n",
    "    for val1 in datat1:\n",
    "        if (val1<=0 and (datapd1[k]>=0.7*databd1[k])) :\n",
    "        #if val1<=0:\n",
    "            v_col.append(1)\n",
    "        else:\n",
    "            v_col.append(0)\n",
    "        k += 1\n",
    "    df[hb_cols1[j]] = v_col\n",
    "    print(df[hb_cols1[j]].value_counts()/30000)\n",
    "    j += 1"
   ]
  },
  {
   "cell_type": "code",
   "execution_count": 9,
   "metadata": {},
   "outputs": [
    {
     "data": {
      "text/plain": [
       "Index(['id', 'bal', 'gen', 'edu', 'mary', 'age', 'p1', 'p2', 'p3', 'p4', 'p5',\n",
       "       'p6', '$b1', '$b2', '$b3', '$b4', '$b5', '$b6', '$p1', '$p2', '$p3',\n",
       "       '$p4', '$p5', '$p6', 'DPNM', 'hb1', 'hb3', 'hb4', 'hb5', 'hb6'],\n",
       "      dtype='object')"
      ]
     },
     "execution_count": 9,
     "metadata": {},
     "output_type": "execute_result"
    }
   ],
   "source": [
    "df.columns"
   ]
  },
  {
   "cell_type": "code",
   "execution_count": 10,
   "metadata": {},
   "outputs": [
    {
     "data": {
      "text/plain": [
       "(1000000, 10000, 129747.66156719506)"
      ]
     },
     "execution_count": 10,
     "metadata": {},
     "output_type": "execute_result"
    }
   ],
   "source": [
    "df.bal.max(), df.bal.min(), df.bal.std()"
   ]
  },
  {
   "cell_type": "raw",
   "metadata": {},
   "source": [
    "As we see the credit line ranges from 10K to 1M with a standard deviation ~ 130K. "
   ]
  },
  {
   "cell_type": "code",
   "execution_count": 11,
   "metadata": {},
   "outputs": [
    {
     "data": {
      "text/plain": [
       "((2471, 30), (10027, 30), (17296, 30), (206, 30))"
      ]
     },
     "execution_count": 11,
     "metadata": {},
     "output_type": "execute_result"
    }
   ],
   "source": [
    "df25K = df[ df['bal']<=25000 ]\n",
    "df100K = df[ (df['bal']>25000) & (df['bal']<=100000) ]\n",
    "df500K = df[ (df['bal']>100000) & (df['bal']<=500000) ]\n",
    "df1M = df[ (df['bal']>500000) ]\n",
    "df25K.shape, df100K.shape, df500K.shape, df1M.shape "
   ]
  },
  {
   "cell_type": "code",
   "execution_count": 12,
   "metadata": {},
   "outputs": [
    {
     "data": {
      "text/plain": [
       "30000"
      ]
     },
     "execution_count": 12,
     "metadata": {},
     "output_type": "execute_result"
    }
   ],
   "source": [
    "df25K.shape[0]+df100K.shape[0]+df500K.shape[0]+df1M.shape[0]"
   ]
  },
  {
   "cell_type": "code",
   "execution_count": 13,
   "metadata": {},
   "outputs": [
    {
     "data": {
      "text/plain": [
       "(2471, 10027, 17296, 206)"
      ]
     },
     "execution_count": 13,
     "metadata": {},
     "output_type": "execute_result"
    }
   ],
   "source": [
    "n_25K = df25K.shape[0]\n",
    "n_100K = df100K.shape[0]\n",
    "n_500K = df500K.shape[0]\n",
    "n_1M = df1M.shape[0]\n",
    "n_25K, n_100K, n_500K, n_1M"
   ]
  },
  {
   "cell_type": "code",
   "execution_count": 14,
   "metadata": {},
   "outputs": [
    {
     "data": {
      "text/plain": [
       "(['n_25K', 'n_100K', 'n_500K', 'n_1M'], [2471, 10027, 17296, 206])"
      ]
     },
     "execution_count": 14,
     "metadata": {},
     "output_type": "execute_result"
    }
   ],
   "source": [
    "index1 = ['n_25K', 'n_100K', 'n_500K', 'n_1M']\n",
    "val1 = [n_25K, n_100K, n_500K, n_1M]\n",
    "index1, val1"
   ]
  },
  {
   "cell_type": "code",
   "execution_count": 15,
   "metadata": {},
   "outputs": [
    {
     "data": {
      "text/html": [
       "<div>\n",
       "<style scoped>\n",
       "    .dataframe tbody tr th:only-of-type {\n",
       "        vertical-align: middle;\n",
       "    }\n",
       "\n",
       "    .dataframe tbody tr th {\n",
       "        vertical-align: top;\n",
       "    }\n",
       "\n",
       "    .dataframe thead th {\n",
       "        text-align: right;\n",
       "    }\n",
       "</style>\n",
       "<table border=\"1\" class=\"dataframe\">\n",
       "  <thead>\n",
       "    <tr style=\"text-align: right;\">\n",
       "      <th></th>\n",
       "      <th>x</th>\n",
       "    </tr>\n",
       "  </thead>\n",
       "  <tbody>\n",
       "    <tr>\n",
       "      <th>0</th>\n",
       "      <td>2471</td>\n",
       "    </tr>\n",
       "    <tr>\n",
       "      <th>1</th>\n",
       "      <td>10027</td>\n",
       "    </tr>\n",
       "    <tr>\n",
       "      <th>2</th>\n",
       "      <td>17296</td>\n",
       "    </tr>\n",
       "    <tr>\n",
       "      <th>3</th>\n",
       "      <td>206</td>\n",
       "    </tr>\n",
       "  </tbody>\n",
       "</table>\n",
       "</div>"
      ],
      "text/plain": [
       "       x\n",
       "0   2471\n",
       "1  10027\n",
       "2  17296\n",
       "3    206"
      ]
     },
     "execution_count": 15,
     "metadata": {},
     "output_type": "execute_result"
    }
   ],
   "source": [
    "df_view = pd.DataFrame({'x':val1})\n",
    "df_view"
   ]
  },
  {
   "cell_type": "code",
   "execution_count": 16,
   "metadata": {},
   "outputs": [],
   "source": [
    "df_view.index = index1"
   ]
  },
  {
   "cell_type": "code",
   "execution_count": 208,
   "metadata": {},
   "outputs": [
    {
     "data": {
      "text/html": [
       "<div>\n",
       "<style scoped>\n",
       "    .dataframe tbody tr th:only-of-type {\n",
       "        vertical-align: middle;\n",
       "    }\n",
       "\n",
       "    .dataframe tbody tr th {\n",
       "        vertical-align: top;\n",
       "    }\n",
       "\n",
       "    .dataframe thead th {\n",
       "        text-align: right;\n",
       "    }\n",
       "</style>\n",
       "<table border=\"1\" class=\"dataframe\">\n",
       "  <thead>\n",
       "    <tr style=\"text-align: right;\">\n",
       "      <th></th>\n",
       "      <th>x</th>\n",
       "    </tr>\n",
       "  </thead>\n",
       "  <tbody>\n",
       "    <tr>\n",
       "      <th>n_25K</th>\n",
       "      <td>2471</td>\n",
       "    </tr>\n",
       "    <tr>\n",
       "      <th>n_100K</th>\n",
       "      <td>10027</td>\n",
       "    </tr>\n",
       "    <tr>\n",
       "      <th>n_500K</th>\n",
       "      <td>17296</td>\n",
       "    </tr>\n",
       "    <tr>\n",
       "      <th>n_1M</th>\n",
       "      <td>206</td>\n",
       "    </tr>\n",
       "  </tbody>\n",
       "</table>\n",
       "</div>"
      ],
      "text/plain": [
       "            x\n",
       "n_25K    2471\n",
       "n_100K  10027\n",
       "n_500K  17296\n",
       "n_1M      206"
      ]
     },
     "execution_count": 208,
     "metadata": {},
     "output_type": "execute_result"
    }
   ],
   "source": [
    "df_view"
   ]
  },
  {
   "cell_type": "code",
   "execution_count": 17,
   "metadata": {},
   "outputs": [
    {
     "data": {
      "image/png": "[encoded data removed]",
      "text/plain": [
       "<Figure size 600x200 with 1 Axes>"
      ]
     },
     "metadata": {},
     "output_type": "display_data"
    }
   ],
   "source": [
    "plt.figure(figsize=(6,2))\n",
    "df_view['x'].plot(kind='bar')\n",
    "plt.show()"
   ]
  },
  {
   "cell_type": "raw",
   "metadata": {},
   "source": [
    "df25K = df[ df['bal']<=25000 ]\n",
    "df100K = df[ (df['bal']>25000) & (df['bal']<=100000) ]\n",
    "df500K = df[ (df['bal']>100000) & (df['bal']<=500000) ]\n",
    "df1M = df[ (df['bal']>500000) ]"
   ]
  },
  {
   "cell_type": "code",
   "execution_count": 18,
   "metadata": {},
   "outputs": [],
   "source": [
    "dfcs = (df25K, df100K, df500K, df1M)"
   ]
  },
  {
   "cell_type": "code",
   "execution_count": 19,
   "metadata": {},
   "outputs": [
    {
     "name": "stdout",
     "output_type": "stream",
     "text": [
      "class_ : 1\n",
      "hb1\n",
      "0    0.882234\n",
      "1    0.117766\n",
      "Name: count, dtype: float64\n",
      "hb1\n",
      "0    0.882234\n",
      "1    0.117766\n",
      "Name: count, dtype: float64\n",
      "hb3\n",
      "0    0.862809\n",
      "1    0.137191\n",
      "Name: count, dtype: float64\n",
      "hb4\n",
      "0    0.860785\n",
      "1    0.139215\n",
      "Name: count, dtype: float64\n",
      "hb5\n",
      "0    0.824767\n",
      "1    0.175233\n",
      "Name: count, dtype: float64\n",
      "hb6\n",
      "0    0.757183\n",
      "1    0.242817\n",
      "Name: count, dtype: float64\n",
      "class_ : 2\n",
      "hb1\n",
      "0    0.868056\n",
      "1    0.131944\n",
      "Name: count, dtype: float64\n",
      "hb1\n",
      "0    0.868056\n",
      "1    0.131944\n",
      "Name: count, dtype: float64\n",
      "hb3\n",
      "0    0.857385\n",
      "1    0.142615\n",
      "Name: count, dtype: float64\n",
      "hb4\n",
      "0    0.842027\n",
      "1    0.157973\n",
      "Name: count, dtype: float64\n",
      "hb5\n",
      "0    0.816396\n",
      "1    0.183604\n",
      "Name: count, dtype: float64\n",
      "hb6\n",
      "0    0.800937\n",
      "1    0.199063\n",
      "Name: count, dtype: float64\n",
      "class_ : 3\n",
      "hb1\n",
      "0    0.668247\n",
      "1    0.331753\n",
      "Name: count, dtype: float64\n",
      "hb1\n",
      "0    0.668247\n",
      "1    0.331753\n",
      "Name: count, dtype: float64\n",
      "hb3\n",
      "0    0.673624\n",
      "1    0.326376\n",
      "Name: count, dtype: float64\n",
      "hb4\n",
      "0    0.673046\n",
      "1    0.326954\n",
      "Name: count, dtype: float64\n",
      "hb5\n",
      "0    0.652521\n",
      "1    0.347479\n",
      "Name: count, dtype: float64\n",
      "hb6\n",
      "0    0.634193\n",
      "1    0.365807\n",
      "Name: count, dtype: float64\n",
      "class_ : 4\n",
      "hb1\n",
      "0    0.73301\n",
      "1    0.26699\n",
      "Name: count, dtype: float64\n",
      "hb1\n",
      "0    0.73301\n",
      "1    0.26699\n",
      "Name: count, dtype: float64\n",
      "hb3\n",
      "0    0.73301\n",
      "1    0.26699\n",
      "Name: count, dtype: float64\n",
      "hb4\n",
      "0    0.762136\n",
      "1    0.237864\n",
      "Name: count, dtype: float64\n",
      "hb5\n",
      "0    0.708738\n",
      "1    0.291262\n",
      "Name: count, dtype: float64\n",
      "hb6\n",
      "0    0.723301\n",
      "1    0.276699\n",
      "Name: count, dtype: float64\n"
     ]
    }
   ],
   "source": [
    "k = 0\n",
    "data_v1 = []\n",
    "for i_dfs in dfcs:\n",
    "    print('class_ :', k+1)\n",
    "    d_v1 = []\n",
    "    for c1 in hb_cols1:\n",
    "        print(i_dfs[c1].value_counts()/i_dfs.shape[0])\n",
    "        #print(i_dfs[c1].value_counts().values[0]/i_dfs.shape[0])\n",
    "        d_v1.append(i_dfs[c1].value_counts().values[1]/i_dfs.shape[0])\n",
    "        j += 1\n",
    "    data_v1.append(d_v1)\n",
    "    k += 1"
   ]
  },
  {
   "cell_type": "code",
   "execution_count": 20,
   "metadata": {},
   "outputs": [],
   "source": [
    "months = ['APR', 'MAY', 'JUN', 'JULY', 'AUG', 'SEPT']"
   ]
  },
  {
   "cell_type": "code",
   "execution_count": 21,
   "metadata": {},
   "outputs": [
    {
     "data": {
      "text/plain": [
       "(4, 6)"
      ]
     },
     "execution_count": 21,
     "metadata": {},
     "output_type": "execute_result"
    }
   ],
   "source": [
    "data_v1 = np.array(data_v1)\n",
    "data_v1.shape"
   ]
  },
  {
   "cell_type": "code",
   "execution_count": 22,
   "metadata": {},
   "outputs": [
    {
     "data": {
      "text/html": [
       "<div>\n",
       "<style scoped>\n",
       "    .dataframe tbody tr th:only-of-type {\n",
       "        vertical-align: middle;\n",
       "    }\n",
       "\n",
       "    .dataframe tbody tr th {\n",
       "        vertical-align: top;\n",
       "    }\n",
       "\n",
       "    .dataframe thead th {\n",
       "        text-align: right;\n",
       "    }\n",
       "</style>\n",
       "<table border=\"1\" class=\"dataframe\">\n",
       "  <thead>\n",
       "    <tr style=\"text-align: right;\">\n",
       "      <th></th>\n",
       "      <th>c_1</th>\n",
       "      <th>c_2</th>\n",
       "      <th>c_3</th>\n",
       "      <th>c_4</th>\n",
       "    </tr>\n",
       "  </thead>\n",
       "  <tbody>\n",
       "    <tr>\n",
       "      <th>APR</th>\n",
       "      <td>0.117766</td>\n",
       "      <td>0.131944</td>\n",
       "      <td>0.331753</td>\n",
       "      <td>0.266990</td>\n",
       "    </tr>\n",
       "    <tr>\n",
       "      <th>MAY</th>\n",
       "      <td>0.117766</td>\n",
       "      <td>0.131944</td>\n",
       "      <td>0.331753</td>\n",
       "      <td>0.266990</td>\n",
       "    </tr>\n",
       "    <tr>\n",
       "      <th>JUN</th>\n",
       "      <td>0.137191</td>\n",
       "      <td>0.142615</td>\n",
       "      <td>0.326376</td>\n",
       "      <td>0.266990</td>\n",
       "    </tr>\n",
       "    <tr>\n",
       "      <th>JULY</th>\n",
       "      <td>0.139215</td>\n",
       "      <td>0.157973</td>\n",
       "      <td>0.326954</td>\n",
       "      <td>0.237864</td>\n",
       "    </tr>\n",
       "    <tr>\n",
       "      <th>AUG</th>\n",
       "      <td>0.175233</td>\n",
       "      <td>0.183604</td>\n",
       "      <td>0.347479</td>\n",
       "      <td>0.291262</td>\n",
       "    </tr>\n",
       "    <tr>\n",
       "      <th>SEPT</th>\n",
       "      <td>0.242817</td>\n",
       "      <td>0.199063</td>\n",
       "      <td>0.365807</td>\n",
       "      <td>0.276699</td>\n",
       "    </tr>\n",
       "  </tbody>\n",
       "</table>\n",
       "</div>"
      ],
      "text/plain": [
       "           c_1       c_2       c_3       c_4\n",
       "APR   0.117766  0.131944  0.331753  0.266990\n",
       "MAY   0.117766  0.131944  0.331753  0.266990\n",
       "JUN   0.137191  0.142615  0.326376  0.266990\n",
       "JULY  0.139215  0.157973  0.326954  0.237864\n",
       "AUG   0.175233  0.183604  0.347479  0.291262\n",
       "SEPT  0.242817  0.199063  0.365807  0.276699"
      ]
     },
     "execution_count": 22,
     "metadata": {},
     "output_type": "execute_result"
    }
   ],
   "source": [
    "df_1 = pd.DataFrame({'c_1': data_v1[0,:]})\n",
    "df_1.index = months\n",
    "df_1['c_2'] = data_v1[1,:]\n",
    "df_1['c_3'] = data_v1[2,:]\n",
    "df_1['c_4'] = data_v1[3,:]\n",
    "df_1"
   ]
  },
  {
   "cell_type": "code",
   "execution_count": 24,
   "metadata": {},
   "outputs": [
    {
     "data": {
      "image/png": "[encoded data removed]",
      "text/plain": [
       "<Figure size 1400x200 with 1 Axes>"
      ]
     },
     "metadata": {},
     "output_type": "display_data"
    }
   ],
   "source": [
    "plt.figure(figsize=(14,2))\n",
    "df_1.c_1.plot(kind='bar', alpha=0.8, color='magenta')\n",
    "df_1.c_2.plot(kind='bar', alpha=0.6, color='green')\n",
    "df_1.c_3.plot(kind='bar', alpha=0.4, color='blue')\n",
    "df_1.c_4.plot(kind='bar', alpha=0.2, color='red')\n",
    "plt.legend()\n",
    "plt.show()"
   ]
  },
  {
   "cell_type": "code",
   "execution_count": null,
   "metadata": {},
   "outputs": [],
   "source": []
  }
 ],
 "metadata": {
  "kernelspec": {
   "display_name": "Python 3 (ipykernel)",
   "language": "python",
   "name": "python3"
  },
  "language_info": {
   "codemirror_mode": {
    "name": "ipython",
    "version": 3
   },
   "file_extension": ".py",
   "mimetype": "text/x-python",
   "name": "python",
   "nbconvert_exporter": "python",
   "pygments_lexer": "ipython3",
   "version": "3.11.7"
  }
 },
 "nbformat": 4,
 "nbformat_minor": 4
}
